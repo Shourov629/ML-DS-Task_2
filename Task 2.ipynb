{
 "cells": [
  {
   "cell_type": "markdown",
   "id": "11e9255c",
   "metadata": {},
   "source": [
    "### 1. Display float number with 2 decimal places using print()."
   ]
  },
  {
   "cell_type": "code",
   "execution_count": 31,
   "id": "4d5e1158",
   "metadata": {},
   "outputs": [
    {
     "name": "stdout",
     "output_type": "stream",
     "text": [
      "2 decimal places of Pi using '%' :  3.14\n",
      "2 decimal places of Pi using 'format()' :  3.14\n",
      "2 decimal places of Pi using 'round()' :  3.14\n"
     ]
    }
   ],
   "source": [
    "import math as m\n",
    "\n",
    "pi = m.pi\n",
    "\n",
    "print(\"2 decimal places of Pi using '%' : \", '%.2f' % pi)\n",
    "print(\"2 decimal places of Pi using 'format()' : \", \"{0:.2f}\".format(pi)) \n",
    "print(\"2 decimal places of Pi using 'round()' : \", round(pi, 2))"
   ]
  },
  {
   "cell_type": "markdown",
   "id": "260c1ad7",
   "metadata": {},
   "source": [
    "### 2. Accept a list of float numbers as input from the user and display that."
   ]
  },
  {
   "cell_type": "code",
   "execution_count": 7,
   "id": "43f1fee8",
   "metadata": {},
   "outputs": [
    {
     "name": "stdout",
     "output_type": "stream",
     "text": [
      "2.34 1.2344 1.0 3.14 2.25 7.90\n"
     ]
    }
   ],
   "source": [
    "list_1 = list(map(float, input().strip().split()))"
   ]
  },
  {
   "cell_type": "code",
   "execution_count": 8,
   "id": "e7046833",
   "metadata": {},
   "outputs": [
    {
     "name": "stdout",
     "output_type": "stream",
     "text": [
      "[2.34, 1.2344, 1.0, 3.14, 2.25, 7.9]\n"
     ]
    }
   ],
   "source": [
    "print(list_1)"
   ]
  },
  {
   "cell_type": "markdown",
   "id": "20ac940e",
   "metadata": {},
   "source": [
    "### 3. Print the First n natural numbers using a while loop.\n"
   ]
  },
  {
   "cell_type": "code",
   "execution_count": 11,
   "id": "4a4a196c",
   "metadata": {},
   "outputs": [
    {
     "name": "stdout",
     "output_type": "stream",
     "text": [
      "Enter the range : 10\n",
      "1 2 3 4 5 6 7 8 9 10 "
     ]
    }
   ],
   "source": [
    "n = int(input(\"Enter the range : \"))\n",
    "\n",
    "i = 1\n",
    "while i<=n:\n",
    "    print(i,end=\" \")\n",
    "    i+=1"
   ]
  },
  {
   "cell_type": "markdown",
   "id": "f49aecaf",
   "metadata": {},
   "source": [
    "### 4. Display numbers from -n to -1 using for loop."
   ]
  },
  {
   "cell_type": "code",
   "execution_count": 19,
   "id": "7f478ab7",
   "metadata": {},
   "outputs": [
    {
     "name": "stdout",
     "output_type": "stream",
     "text": [
      "Enter a range : 10\n",
      "-10   -9   -8   -7   -6   -5   -4   -3   -2   -1   "
     ]
    }
   ],
   "source": [
    "n = int(input(\"Enter a range : \"))\n",
    "for i in range(n):\n",
    "    print(-1*(n-i),\"  \",end=\"\")"
   ]
  },
  {
   "cell_type": "markdown",
   "id": "2364b19f",
   "metadata": {},
   "source": [
    "### 5. Count the total number of digits in a number.\n"
   ]
  },
  {
   "cell_type": "code",
   "execution_count": 14,
   "id": "8725b8d4",
   "metadata": {},
   "outputs": [
    {
     "name": "stdout",
     "output_type": "stream",
     "text": [
      "Enter an integer number : 123456\n",
      "6\n"
     ]
    }
   ],
   "source": [
    "n = int(input(\"Enter an integer number : \"))\n",
    "cnt = 0\n",
    "i = n\n",
    "while i>0:\n",
    "    \n",
    "    cnt += 1\n",
    "    i = i//10\n",
    "\n",
    "print(cnt)"
   ]
  },
  {
   "cell_type": "markdown",
   "id": "d2293da4",
   "metadata": {},
   "source": [
    "### 6. Find the factorial of a given number.\n"
   ]
  },
  {
   "cell_type": "code",
   "execution_count": 23,
   "id": "dfbd3af7",
   "metadata": {},
   "outputs": [
    {
     "name": "stdout",
     "output_type": "stream",
     "text": [
      "Enter an integer number : 5\n",
      "120\n"
     ]
    }
   ],
   "source": [
    "n = int(input(\"Enter an integer number : \"))\n",
    "\n",
    "mul = 1\n",
    "while n > 0:\n",
    "    mul *= n\n",
    "    n -= 1\n",
    "    \n",
    "print(mul)"
   ]
  },
  {
   "cell_type": "markdown",
   "id": "94287aff",
   "metadata": {},
   "source": [
    "### 7. Number Pattern\n"
   ]
  },
  {
   "cell_type": "code",
   "execution_count": 29,
   "id": "f78f4194",
   "metadata": {},
   "outputs": [
    {
     "name": "stdout",
     "output_type": "stream",
     "text": [
      "Enter an integer number : 10\n",
      "1  \n",
      "1  2  \n",
      "1  2  3  \n",
      "1  2  3  4  \n",
      "1  2  3  4  5  \n",
      "1  2  3  4  5  6  \n",
      "1  2  3  4  5  6  7  \n",
      "1  2  3  4  5  6  7  8  \n",
      "1  2  3  4  5  6  7  8  9  \n",
      "1  2  3  4  5  6  7  8  9  10  \n"
     ]
    }
   ],
   "source": [
    "n = int(input(\"Enter an integer number : \"))\n",
    "\n",
    "for i in range(1,n+1):\n",
    "    for j in range(1,i+1):\n",
    "        print(j,\" \",end=\"\")\n",
    "    print(\"\")"
   ]
  }
 ],
 "metadata": {
  "kernelspec": {
   "display_name": "Python 3 (ipykernel)",
   "language": "python",
   "name": "python3"
  },
  "language_info": {
   "codemirror_mode": {
    "name": "ipython",
    "version": 3
   },
   "file_extension": ".py",
   "mimetype": "text/x-python",
   "name": "python",
   "nbconvert_exporter": "python",
   "pygments_lexer": "ipython3",
   "version": "3.11.0"
  }
 },
 "nbformat": 4,
 "nbformat_minor": 5
}
